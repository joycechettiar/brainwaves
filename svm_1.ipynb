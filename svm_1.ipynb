{
  "nbformat": 4,
  "nbformat_minor": 0,
  "metadata": {
    "colab": {
      "name": "svm_1.ipynb",
      "version": "0.3.2",
      "provenance": [],
      "include_colab_link": true
    },
    "kernelspec": {
      "name": "python3",
      "display_name": "Python 3"
    },
    "accelerator": "GPU"
  },
  "cells": [
    {
      "cell_type": "markdown",
      "metadata": {
        "id": "view-in-github",
        "colab_type": "text"
      },
      "source": [
        "<a href=\"https://colab.research.google.com/github/pravin-pandey/brainwaves/blob/master/svm_1.ipynb\" target=\"_parent\"><img src=\"https://colab.research.google.com/assets/colab-badge.svg\" alt=\"Open In Colab\"/></a>"
      ]
    },
    {
      "metadata": {
        "id": "XnDCIKQcRTIm",
        "colab_type": "code",
        "outputId": "1d6874a2-ac82-4461-f1ea-90cffba8f432",
        "colab": {
          "base_uri": "https://localhost:8080/",
          "height": 1030
        }
      },
      "cell_type": "code",
      "source": [
        "# importing required libraries \n",
        "import numpy as np \n",
        "import pandas as pd \n",
        "import matplotlib.pyplot as plt \n",
        "  \n",
        "# reading csv file and extracting class column to y. \n",
        "x = pd.read_excel(\"sleep_work_dataset.xlsx\") \n",
        "a = np.array(x) \n",
        "y  = a[:,5] # classes having 0 and 1 \n",
        "  \n",
        "# extracting two features \n",
        "x = np.column_stack((x.avg_wrk_hrs_per_day,x.sleep_after_work,x.eeg_signal_in_Hz)) \n",
        "x.shape # 550 samples and 3 features \n",
        "  \n",
        "print (x),(y) "
      ],
      "execution_count": 0,
      "outputs": [
        {
          "output_type": "stream",
          "text": [
            "[[ 8.   0.   5.2]\n",
            " [ 9.   1.  13. ]\n",
            " [ 8.5  0.   9.8]\n",
            " ...\n",
            " [10.   1.   6.4]\n",
            " [ 8.   0.   8.5]\n",
            " [ 8.   1.   9.3]]\n"
          ],
          "name": "stdout"
        },
        {
          "output_type": "execute_result",
          "data": {
            "text/plain": [
              "(None, array([ 5.2, 13. ,  9.8,  7.8, 13.5,  5.3,  9.2, 12.9, 13.6,  7.6,  4.3,\n",
              "         6.4,  5.5,  9.5,  9.4,  5.9,  7.6,  6.4,  9.8,  7.6,  4.9,  8.8,\n",
              "         6.7,  5.2,  6.9,  6.4,  5.1,  9. ,  7.1,  6.2,  9.5,  4.3,  9.8,\n",
              "         7.5, 12.4,  5.6, 11.9,  7.8,  9.5, 10.5,  6.5,  8.9,  8.7,  6.5,\n",
              "         9.5,  8.4, 12.5, 11.2,  9.8,  7.5,  9.1,  5.8,  5.6,  9.8,  5.1,\n",
              "         9. ,  7.1,  6.2,  9.5,  4.3,  9.8,  7.5, 12.4,  5.6, 11.9,  7.8,\n",
              "         9.5, 10.5,  6.5,  8.9,  8.7,  6.5,  9.5,  8.4, 12.5, 11.2,  9.8,\n",
              "         7.5,  9.1,  5.8,  5.6,  9.8,  5.2, 13. ,  9.8,  7.8, 13.5,  5.3,\n",
              "         9.2, 12.9, 13.6,  7.6,  4.3,  6.4,  5.5,  9.5,  9.4,  5.9,  7.6,\n",
              "         6.4,  9.8,  7.6,  4.9,  8.8,  6.7,  5.2,  6.9,  6.4,  5.1,  9. ,\n",
              "         7.1,  6.2,  9.5,  4.3,  9.8,  7.5, 12.4,  5.6, 11.9,  7.8,  9.5,\n",
              "        10.5,  6.5,  8.9,  8.7,  6.5,  9.5,  8.4, 12.5, 11.2,  9.8,  7.5,\n",
              "         9.1,  5.8,  5.6,  9.8,  5.1,  5.2, 13. ,  9.8,  7.8, 13.5,  5.3,\n",
              "         9.2, 12.9, 13.6,  7.6,  4.3,  6.4,  5.5,  9.5,  9.4,  5.9,  7.6,\n",
              "         6.4,  9.8,  7.6,  4.9,  8.8,  6.7,  5.2,  6.9,  6.4,  5.1,  9. ,\n",
              "         7.1,  6.2,  9.5,  4.3,  9.8,  7.5, 12.4,  5.6, 11.9,  7.8,  9.5,\n",
              "        10.5,  6.5,  8.9,  8.7,  6.5,  9.5,  8.4, 12.5, 11.2,  9.8,  7.5,\n",
              "         9.1,  5.8,  5.6,  9.8,  5.1,  5.2, 13. ,  9.8,  7.8, 13.5,  5.3,\n",
              "         9.2, 12.9, 13.6,  7.6,  4.3,  6.4,  5.5,  9.5,  9.4,  5.9,  7.6,\n",
              "         6.4,  9.8,  7.6,  4.9,  8.8,  6.7,  5.2,  6.9,  6.4,  5.1,  9. ,\n",
              "         7.1,  6.2,  9.5,  4.3,  9.8,  7.5, 12.4,  5.6, 11.9,  7.8,  9.5,\n",
              "        10.5,  6.5,  8.9,  8.7,  6.5,  9.5,  8.4, 12.5, 11.2,  9.8,  7.5,\n",
              "         9.1,  5.8,  5.6,  9.8,  5.1,  5.2, 13. ,  9.8,  7.8, 13.5,  5.3,\n",
              "         9.2, 12.9, 13.6,  7.6,  4.3,  6.4,  5.5,  9.5,  9.4,  5.9,  7.6,\n",
              "         6.4,  9.8,  7.6,  4.9,  8.8,  6.7,  5.2,  6.9,  6.4,  5.1,  9. ,\n",
              "         7.1,  6.2,  9.5,  4.3,  9.8,  7.5, 12.4,  5.6, 11.9,  7.8,  9.5,\n",
              "        10.5,  6.5,  8.9,  8.7,  6.5,  9.5,  8.4, 12.5, 11.2,  9.8,  7.5,\n",
              "         9.1,  5.8,  5.6,  9.8,  5.1,  5.2, 13. ,  9.8,  7.8, 13.5,  5.3,\n",
              "         9.2, 12.9, 13.6,  7.6,  4.3,  6.4,  5.5,  9.5,  9.4,  5.9,  7.6,\n",
              "         6.4,  9.8,  7.6,  4.9,  8.8,  6.7,  5.2,  6.9,  6.4,  5.1,  9. ,\n",
              "         7.1,  6.2,  9.5,  4.3,  9.8,  7.5, 12.4,  5.6, 11.9,  7.8,  9.5,\n",
              "        10.5,  6.5,  8.9,  8.7,  6.5,  9.5,  8.4, 12.5, 11.2,  9.8,  7.5,\n",
              "         9.1,  5.8,  5.6,  9.8,  5.1,  5.2, 13. ,  9.8,  7.8, 13.5,  5.3,\n",
              "         9.2, 12.9, 13.6,  7.6,  4.3,  6.4,  5.5,  9.5,  9.4,  5.9,  7.6,\n",
              "         6.4,  9.8,  7.6,  4.9,  8.8,  6.7,  5.2,  6.9,  6.4,  5.1,  9. ,\n",
              "         7.1,  6.2,  9.5,  4.3,  9.8,  7.5, 12.4,  5.6, 11.9,  7.8,  9.5,\n",
              "        10.5,  6.5,  8.9,  8.7,  6.5,  9.5,  8.4, 12.5, 11.2,  9.8,  7.5,\n",
              "         9.1,  5.8,  5.6,  9.8,  5.1,  5.2, 13. ,  9.8,  7.8, 13.5,  5.3,\n",
              "         9.2, 12.9, 13.6,  7.6,  4.3,  6.4,  5.5,  9.5,  9.4,  5.9,  7.6,\n",
              "         6.4,  9.8,  7.6,  4.9,  8.8,  6.7,  5.2,  6.9,  6.4,  5.1,  9. ,\n",
              "         7.1,  6.2,  9.5,  4.3,  9.8,  7.5, 12.4,  5.6, 11.9,  7.8,  9.5,\n",
              "        10.5,  6.5,  8.9,  8.7,  6.5,  9.5,  8.4, 12.5, 11.2,  9.8,  7.5,\n",
              "         9.1,  5.8,  5.6,  9.8,  5.1,  5.2, 13. ,  9.8,  7.8, 13.5,  5.3,\n",
              "         9.2, 12.9, 13.6,  7.6,  4.3,  6.4,  5.5,  9.5,  9.4,  5.9,  7.6,\n",
              "         6.4,  9.8,  7.6,  4.9,  8.8,  6.7,  5.2,  6.9,  6.4,  5.1,  9. ,\n",
              "         7.1,  6.2,  9.5,  4.3,  9.8,  7.5, 12.4,  5.6, 11.9,  7.8,  9.5,\n",
              "        10.5,  6.5,  8.9,  8.7,  6.5,  9.5,  8.4, 12.5, 11.2,  9.8,  7.5,\n",
              "         9.1,  5.8,  5.6,  9.8,  5.1,  5.2, 13. ,  9.8,  7.8, 13.5,  5.3,\n",
              "         9.2, 12.9, 13.6,  7.6,  4.3,  6.4,  5.5,  9.5,  9.4,  5.9,  7.6,\n",
              "         6.4,  9.8,  7.6,  4.9,  8.8,  6.7,  5.2,  6.9,  6.4,  8.5,  9.3]))"
            ]
          },
          "metadata": {
            "tags": []
          },
          "execution_count": 3
        }
      ]
    },
    {
      "metadata": {
        "id": "oVuTgkkRR_J7",
        "colab_type": "code",
        "outputId": "0dce9822-c24c-4a18-dfaf-3360635c49b1",
        "colab": {
          "base_uri": "https://localhost:8080/",
          "height": 70
        }
      },
      "cell_type": "code",
      "source": [
        "# import support vector classifier \n",
        "from sklearn.svm import SVR # \"Support Vector Regressor because we have to use float values\" \n",
        "clf = SVR(kernel='linear') \n",
        "  \n",
        "# fitting x samples and y classes \n",
        "clf.fit(x, y) "
      ],
      "execution_count": 0,
      "outputs": [
        {
          "output_type": "execute_result",
          "data": {
            "text/plain": [
              "SVR(C=1.0, cache_size=200, coef0=0.0, degree=3, epsilon=0.1,\n",
              "  gamma='auto_deprecated', kernel='linear', max_iter=-1, shrinking=True,\n",
              "  tol=0.001, verbose=False)"
            ]
          },
          "metadata": {
            "tags": []
          },
          "execution_count": 5
        }
      ]
    },
    {
      "metadata": {
        "id": "cEuZnCMpSt8O",
        "colab_type": "code",
        "outputId": "4d4dc689-0f5f-45ed-f066-f8ed0c2ec326",
        "colab": {
          "base_uri": "https://localhost:8080/",
          "height": 34
        }
      },
      "cell_type": "code",
      "source": [
        "clf.predict([[10, 0, 13]]) "
      ],
      "execution_count": 0,
      "outputs": [
        {
          "output_type": "execute_result",
          "data": {
            "text/plain": [
              "array([9.97741897])"
            ]
          },
          "metadata": {
            "tags": []
          },
          "execution_count": 8
        }
      ]
    }
  ]
}