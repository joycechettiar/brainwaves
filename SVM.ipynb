{
  "nbformat": 4,
  "nbformat_minor": 0,
  "metadata": {
    "colab": {
      "name": "SVM.ipynb",
      "version": "0.3.2",
      "provenance": [],
      "include_colab_link": true
    },
    "kernelspec": {
      "name": "python3",
      "display_name": "Python 3"
    },
    "accelerator": "TPU"
  },
  "cells": [
    {
      "cell_type": "markdown",
      "metadata": {
        "id": "view-in-github",
        "colab_type": "text"
      },
      "source": [
        "<a href=\"https://colab.research.google.com/github/pravin-pandey/brainwaves/blob/master/SVM.ipynb\" target=\"_parent\"><img src=\"https://colab.research.google.com/assets/colab-badge.svg\" alt=\"Open In Colab\"/></a>"
      ]
    },
    {
      "metadata": {
        "id": "iUQYOKLio7kL",
        "colab_type": "code",
        "colab": {}
      },
      "cell_type": "code",
      "source": [
        "%matplotlib inline\n",
        "import itertools\n",
        "import numpy, scipy, matplotlib.pyplot as plt, pandas, sklearn\n",
        "#import config\n",
        "\n",
        "# from sklearn.neighbors import KNeighborsClassifier\n",
        "# from sklearn.ensemble import RandomForestClassifier\n",
        "# from sklearn.neural_network import MLPClassifier\n",
        "from sklearn.svm import SVC"
      ],
      "execution_count": 0,
      "outputs": []
    },
    {
      "metadata": {
        "id": "cvoStktho-C3",
        "colab_type": "code",
        "colab": {
          "base_uri": "https://localhost:8080/",
          "height": 165
        },
        "outputId": "21f56a45-2918-4f41-df6c-0515b76c9a5a"
      },
      "cell_type": "code",
      "source": [
        "data_set=pandas.read_excel('dataset.xlsx',index_col=False)\n",
        "work_day=['hectic_and_nsleep', 'hectic_and_sleep', 'nhectic_and_nsleep', 'nhectic_and_sleep']\n",
        "\n",
        "number_of_rows,number_of_cols = data_set.shape\n",
        "data_set[:5].style"
      ],
      "execution_count": 2,
      "outputs": [
        {
          "output_type": "execute_result",
          "data": {
            "text/html": [
              "<style  type=\"text/css\" >\n",
              "</style>  \n",
              "<table id=\"T_a49e615a_2d39_11e9_add7_0242ac1c0002\" > \n",
              "<thead>    <tr> \n",
              "        <th class=\"blank level0\" ></th> \n",
              "        <th class=\"col_heading level0 col0\" >ID</th> \n",
              "        <th class=\"col_heading level0 col1\" >Diagnosed_Sleep_disorder</th> \n",
              "        <th class=\"col_heading level0 col2\" >Avg_Work_Hrs_Week</th> \n",
              "        <th class=\"col_heading level0 col3\" >Avg_Work_Hrs_Day</th> \n",
              "        <th class=\"col_heading level0 col4\" >Alert_at_Work</th> \n",
              "        <th class=\"col_heading level0 col5\" >Mentally_Drained</th> \n",
              "        <th class=\"col_heading level0 col6\" >Phys_Drained</th> \n",
              "        <th class=\"col_heading level0 col7\" >Emergencies</th> \n",
              "        <th class=\"col_heading level0 col8\" >Lack_of_control</th> \n",
              "        <th class=\"col_heading level0 col9\" >Sleep_loss</th> \n",
              "        <th class=\"col_heading level0 col10\" >Job_pressure</th> \n",
              "        <th class=\"col_heading level0 col11\" >BreakTime</th> \n",
              "        <th class=\"col_heading level0 col12\" >TimeOff</th> \n",
              "    </tr></thead> \n",
              "<tbody>    <tr> \n",
              "        <th id=\"T_a49e615a_2d39_11e9_add7_0242ac1c0002level0_row0\" class=\"row_heading level0 row0\" >0</th> \n",
              "        <td id=\"T_a49e615a_2d39_11e9_add7_0242ac1c0002row0_col0\" class=\"data row0 col0\" >1</td> \n",
              "        <td id=\"T_a49e615a_2d39_11e9_add7_0242ac1c0002row0_col1\" class=\"data row0 col1\" >2</td> \n",
              "        <td id=\"T_a49e615a_2d39_11e9_add7_0242ac1c0002row0_col2\" class=\"data row0 col2\" >40</td> \n",
              "        <td id=\"T_a49e615a_2d39_11e9_add7_0242ac1c0002row0_col3\" class=\"data row0 col3\" >8</td> \n",
              "        <td id=\"T_a49e615a_2d39_11e9_add7_0242ac1c0002row0_col4\" class=\"data row0 col4\" >2</td> \n",
              "        <td id=\"T_a49e615a_2d39_11e9_add7_0242ac1c0002row0_col5\" class=\"data row0 col5\" >2</td> \n",
              "        <td id=\"T_a49e615a_2d39_11e9_add7_0242ac1c0002row0_col6\" class=\"data row0 col6\" >1</td> \n",
              "        <td id=\"T_a49e615a_2d39_11e9_add7_0242ac1c0002row0_col7\" class=\"data row0 col7\" >3</td> \n",
              "        <td id=\"T_a49e615a_2d39_11e9_add7_0242ac1c0002row0_col8\" class=\"data row0 col8\" >2</td> \n",
              "        <td id=\"T_a49e615a_2d39_11e9_add7_0242ac1c0002row0_col9\" class=\"data row0 col9\" >2</td> \n",
              "        <td id=\"T_a49e615a_2d39_11e9_add7_0242ac1c0002row0_col10\" class=\"data row0 col10\" >2</td> \n",
              "        <td id=\"T_a49e615a_2d39_11e9_add7_0242ac1c0002row0_col11\" class=\"data row0 col11\" >3</td> \n",
              "        <td id=\"T_a49e615a_2d39_11e9_add7_0242ac1c0002row0_col12\" class=\"data row0 col12\" >4</td> \n",
              "    </tr>    <tr> \n",
              "        <th id=\"T_a49e615a_2d39_11e9_add7_0242ac1c0002level0_row1\" class=\"row_heading level0 row1\" >1</th> \n",
              "        <td id=\"T_a49e615a_2d39_11e9_add7_0242ac1c0002row1_col0\" class=\"data row1 col0\" >2</td> \n",
              "        <td id=\"T_a49e615a_2d39_11e9_add7_0242ac1c0002row1_col1\" class=\"data row1 col1\" >2</td> \n",
              "        <td id=\"T_a49e615a_2d39_11e9_add7_0242ac1c0002row1_col2\" class=\"data row1 col2\" >40</td> \n",
              "        <td id=\"T_a49e615a_2d39_11e9_add7_0242ac1c0002row1_col3\" class=\"data row1 col3\" >8</td> \n",
              "        <td id=\"T_a49e615a_2d39_11e9_add7_0242ac1c0002row1_col4\" class=\"data row1 col4\" >3</td> \n",
              "        <td id=\"T_a49e615a_2d39_11e9_add7_0242ac1c0002row1_col5\" class=\"data row1 col5\" >2</td> \n",
              "        <td id=\"T_a49e615a_2d39_11e9_add7_0242ac1c0002row1_col6\" class=\"data row1 col6\" >1</td> \n",
              "        <td id=\"T_a49e615a_2d39_11e9_add7_0242ac1c0002row1_col7\" class=\"data row1 col7\" >1</td> \n",
              "        <td id=\"T_a49e615a_2d39_11e9_add7_0242ac1c0002row1_col8\" class=\"data row1 col8\" >1</td> \n",
              "        <td id=\"T_a49e615a_2d39_11e9_add7_0242ac1c0002row1_col9\" class=\"data row1 col9\" >1</td> \n",
              "        <td id=\"T_a49e615a_2d39_11e9_add7_0242ac1c0002row1_col10\" class=\"data row1 col10\" >1</td> \n",
              "        <td id=\"T_a49e615a_2d39_11e9_add7_0242ac1c0002row1_col11\" class=\"data row1 col11\" >1</td> \n",
              "        <td id=\"T_a49e615a_2d39_11e9_add7_0242ac1c0002row1_col12\" class=\"data row1 col12\" >1</td> \n",
              "    </tr>    <tr> \n",
              "        <th id=\"T_a49e615a_2d39_11e9_add7_0242ac1c0002level0_row2\" class=\"row_heading level0 row2\" >2</th> \n",
              "        <td id=\"T_a49e615a_2d39_11e9_add7_0242ac1c0002row2_col0\" class=\"data row2 col0\" >3</td> \n",
              "        <td id=\"T_a49e615a_2d39_11e9_add7_0242ac1c0002row2_col1\" class=\"data row2 col1\" >1</td> \n",
              "        <td id=\"T_a49e615a_2d39_11e9_add7_0242ac1c0002row2_col2\" class=\"data row2 col2\" >41</td> \n",
              "        <td id=\"T_a49e615a_2d39_11e9_add7_0242ac1c0002row2_col3\" class=\"data row2 col3\" >8.2</td> \n",
              "        <td id=\"T_a49e615a_2d39_11e9_add7_0242ac1c0002row2_col4\" class=\"data row2 col4\" >3</td> \n",
              "        <td id=\"T_a49e615a_2d39_11e9_add7_0242ac1c0002row2_col5\" class=\"data row2 col5\" >3</td> \n",
              "        <td id=\"T_a49e615a_2d39_11e9_add7_0242ac1c0002row2_col6\" class=\"data row2 col6\" >3</td> \n",
              "        <td id=\"T_a49e615a_2d39_11e9_add7_0242ac1c0002row2_col7\" class=\"data row2 col7\" >2</td> \n",
              "        <td id=\"T_a49e615a_2d39_11e9_add7_0242ac1c0002row2_col8\" class=\"data row2 col8\" >3</td> \n",
              "        <td id=\"T_a49e615a_2d39_11e9_add7_0242ac1c0002row2_col9\" class=\"data row2 col9\" >2</td> \n",
              "        <td id=\"T_a49e615a_2d39_11e9_add7_0242ac1c0002row2_col10\" class=\"data row2 col10\" >2</td> \n",
              "        <td id=\"T_a49e615a_2d39_11e9_add7_0242ac1c0002row2_col11\" class=\"data row2 col11\" >2</td> \n",
              "        <td id=\"T_a49e615a_2d39_11e9_add7_0242ac1c0002row2_col12\" class=\"data row2 col12\" >2</td> \n",
              "    </tr>    <tr> \n",
              "        <th id=\"T_a49e615a_2d39_11e9_add7_0242ac1c0002level0_row3\" class=\"row_heading level0 row3\" >3</th> \n",
              "        <td id=\"T_a49e615a_2d39_11e9_add7_0242ac1c0002row3_col0\" class=\"data row3 col0\" >4</td> \n",
              "        <td id=\"T_a49e615a_2d39_11e9_add7_0242ac1c0002row3_col1\" class=\"data row3 col1\" >2</td> \n",
              "        <td id=\"T_a49e615a_2d39_11e9_add7_0242ac1c0002row3_col2\" class=\"data row3 col2\" >40</td> \n",
              "        <td id=\"T_a49e615a_2d39_11e9_add7_0242ac1c0002row3_col3\" class=\"data row3 col3\" >8</td> \n",
              "        <td id=\"T_a49e615a_2d39_11e9_add7_0242ac1c0002row3_col4\" class=\"data row3 col4\" >3</td> \n",
              "        <td id=\"T_a49e615a_2d39_11e9_add7_0242ac1c0002row3_col5\" class=\"data row3 col5\" >3</td> \n",
              "        <td id=\"T_a49e615a_2d39_11e9_add7_0242ac1c0002row3_col6\" class=\"data row3 col6\" >2</td> \n",
              "        <td id=\"T_a49e615a_2d39_11e9_add7_0242ac1c0002row3_col7\" class=\"data row3 col7\" >4</td> \n",
              "        <td id=\"T_a49e615a_2d39_11e9_add7_0242ac1c0002row3_col8\" class=\"data row3 col8\" >3</td> \n",
              "        <td id=\"T_a49e615a_2d39_11e9_add7_0242ac1c0002row3_col9\" class=\"data row3 col9\" >3</td> \n",
              "        <td id=\"T_a49e615a_2d39_11e9_add7_0242ac1c0002row3_col10\" class=\"data row3 col10\" >1</td> \n",
              "        <td id=\"T_a49e615a_2d39_11e9_add7_0242ac1c0002row3_col11\" class=\"data row3 col11\" >3</td> \n",
              "        <td id=\"T_a49e615a_2d39_11e9_add7_0242ac1c0002row3_col12\" class=\"data row3 col12\" >3</td> \n",
              "    </tr>    <tr> \n",
              "        <th id=\"T_a49e615a_2d39_11e9_add7_0242ac1c0002level0_row4\" class=\"row_heading level0 row4\" >4</th> \n",
              "        <td id=\"T_a49e615a_2d39_11e9_add7_0242ac1c0002row4_col0\" class=\"data row4 col0\" >5</td> \n",
              "        <td id=\"T_a49e615a_2d39_11e9_add7_0242ac1c0002row4_col1\" class=\"data row4 col1\" >2</td> \n",
              "        <td id=\"T_a49e615a_2d39_11e9_add7_0242ac1c0002row4_col2\" class=\"data row4 col2\" >40</td> \n",
              "        <td id=\"T_a49e615a_2d39_11e9_add7_0242ac1c0002row4_col3\" class=\"data row4 col3\" >8</td> \n",
              "        <td id=\"T_a49e615a_2d39_11e9_add7_0242ac1c0002row4_col4\" class=\"data row4 col4\" >2</td> \n",
              "        <td id=\"T_a49e615a_2d39_11e9_add7_0242ac1c0002row4_col5\" class=\"data row4 col5\" >3</td> \n",
              "        <td id=\"T_a49e615a_2d39_11e9_add7_0242ac1c0002row4_col6\" class=\"data row4 col6\" >3</td> \n",
              "        <td id=\"T_a49e615a_2d39_11e9_add7_0242ac1c0002row4_col7\" class=\"data row4 col7\" >4</td> \n",
              "        <td id=\"T_a49e615a_2d39_11e9_add7_0242ac1c0002row4_col8\" class=\"data row4 col8\" >2</td> \n",
              "        <td id=\"T_a49e615a_2d39_11e9_add7_0242ac1c0002row4_col9\" class=\"data row4 col9\" >4</td> \n",
              "        <td id=\"T_a49e615a_2d39_11e9_add7_0242ac1c0002row4_col10\" class=\"data row4 col10\" >4</td> \n",
              "        <td id=\"T_a49e615a_2d39_11e9_add7_0242ac1c0002row4_col11\" class=\"data row4 col11\" >4</td> \n",
              "        <td id=\"T_a49e615a_2d39_11e9_add7_0242ac1c0002row4_col12\" class=\"data row4 col12\" >2</td> \n",
              "    </tr></tbody> \n",
              "</table> "
            ],
            "text/plain": [
              "<pandas.io.formats.style.Styler at 0x7fa2cfde12e8>"
            ]
          },
          "metadata": {
            "tags": []
          },
          "execution_count": 2
        }
      ]
    },
    {
      "metadata": {
        "id": "GmTwCghqpz6q",
        "colab_type": "code",
        "colab": {}
      },
      "cell_type": "code",
      "source": [
        "data_set = data_set.dropna()"
      ],
      "execution_count": 0,
      "outputs": []
    },
    {
      "metadata": {
        "id": "Z3lntikcpN4R",
        "colab_type": "code",
        "colab": {
          "base_uri": "https://localhost:8080/",
          "height": 51
        },
        "outputId": "e39b57a4-25fe-444b-f21a-6b0705c3790f"
      },
      "cell_type": "code",
      "source": [
        "from sklearn.model_selection import train_test_split\n",
        "\n",
        "data_set_values=numpy.array(data_set)\n",
        "\n",
        "train, test = train_test_split(data_set_values, test_size = 0.2,random_state=2,stratify=None)\n",
        "\n",
        "train_x=train[:,:number_of_cols-1]\n",
        "train_y=train[:,number_of_cols-1]\n",
        "\n",
        "test_x=test[:,:number_of_cols-1]\n",
        "test_y=test[:,number_of_cols-1]\n",
        "\n",
        "print(\"Training data size: {}\".format(train.shape))\n",
        "print(\"Test data size: {}\".format(test.shape))"
      ],
      "execution_count": 7,
      "outputs": [
        {
          "output_type": "stream",
          "text": [
            "Training data size: (351, 13)\n",
            "Test data size: (88, 13)\n"
          ],
          "name": "stdout"
        }
      ]
    },
    {
      "metadata": {
        "id": "3tzoJ8zZpOnJ",
        "colab_type": "code",
        "colab": {}
      },
      "cell_type": "code",
      "source": [
        "def confusion_matrix(cm, classes,\n",
        "                          title='Confusion matrix',\n",
        "                          cmap=plt.cm.Blues):\n",
        "   \n",
        "    plt.imshow(cm, interpolation='nearest', cmap=cmap)\n",
        "    plt.title(title)\n",
        "    plt.colorbar()\n",
        "    tick_marks = numpy.arange(len(classes))\n",
        "    plt.xticks(tick_marks, classes, rotation=45)\n",
        "    plt.yticks(tick_marks, classes)\n",
        "\n",
        "    thresh = cm.max() / 2.\n",
        "    for i, j in itertools.product(range(cm.shape[0]), range(cm.shape[1])):\n",
        "        plt.text(j, i, cm[i, j],\n",
        "                 horizontalalignment=\"center\",\n",
        "                 color=\"white\" if cm[i, j] > thresh else \"black\")\n",
        "\n",
        "    plt.tight_layout()\n",
        "    plt.ylabel('True label')\n",
        "    plt.xlabel('Predicted label')\n",
        "\n",
        "def plot_cnf(model,dataset_x,dataset_y,GENRES):\n",
        "    true_y=dataset_y\n",
        "    true_x=dataset_x\n",
        "    pred=model.predict(true_x)\n",
        "\n",
        "    print(\"---------------PERFORMANCE ANALYSIS FOR THE MODEL----------------\\n\")\n",
        "\n",
        "    print(\"Real Test dataset labels: \\n{}\\n\".format(true_y))\n",
        "    print(\"Predicted Test dataset labels: \\n{}\".format(pred))\n",
        "\n",
        "    cnf_matrix=sklearn.metrics.confusion_matrix(true_y,pred)\n",
        "    plt.figure()\n",
        "    a=confusion_matrix(cnf_matrix,classes=work_day,title='Confusion matrix')"
      ],
      "execution_count": 0,
      "outputs": []
    },
    {
      "metadata": {
        "id": "NMNXbX4epUPQ",
        "colab_type": "code",
        "colab": {
          "base_uri": "https://localhost:8080/",
          "height": 620
        },
        "outputId": "b9f5683c-2323-4fba-e566-8de8cdc9d432"
      },
      "cell_type": "code",
      "source": [
        "svm=SVC(C=50)\n",
        "svm.fit(train_x,train_y)\n",
        "print(\"Training Score: {:.3f}\".format(svm.score(train_x,train_y)))\n",
        "print(\"Test score: {:.3f}\".format(svm.score(test_x,test_y)))\n",
        "\n",
        "plot_cnf(svm,test_x,test_y,work_day)"
      ],
      "execution_count": 12,
      "outputs": [
        {
          "output_type": "stream",
          "text": [
            "/usr/local/lib/python3.6/dist-packages/sklearn/svm/base.py:196: FutureWarning: The default value of gamma will change from 'auto' to 'scale' in version 0.22 to account better for unscaled features. Set gamma explicitly to 'auto' or 'scale' to avoid this warning.\n",
            "  \"avoid this warning.\", FutureWarning)\n"
          ],
          "name": "stderr"
        },
        {
          "output_type": "stream",
          "text": [
            "Training Score: 1.000\n",
            "Test score: 0.375\n",
            "---------------PERFORMANCE ANALYSIS FOR THE MODEL----------------\n",
            "\n",
            "Real Test dataset labels: \n",
            "[3. 2. 3. 3. 2. 1. 2. 2. 1. 1. 2. 3. 2. 3. 2. 2. 2. 4. 4. 2. 3. 3. 1. 1.\n",
            " 3. 3. 2. 4. 1. 2. 1. 1. 4. 1. 4. 2. 1. 2. 2. 1. 1. 1. 4. 2. 2. 4. 1. 2.\n",
            " 4. 1. 1. 4. 2. 2. 3. 2. 3. 2. 4. 4. 3. 2. 3. 3. 2. 3. 2. 2. 1. 1. 2. 2.\n",
            " 3. 1. 2. 4. 3. 4. 1. 4. 1. 4. 1. 4. 1. 3. 3. 3.]\n",
            "\n",
            "Predicted Test dataset labels: \n",
            "[3. 2. 1. 3. 2. 2. 1. 1. 2. 1. 2. 4. 2. 3. 2. 3. 2. 3. 4. 2. 2. 3. 2. 2.\n",
            " 4. 3. 2. 1. 1. 1. 2. 2. 3. 3. 2. 1. 3. 2. 2. 1. 2. 1. 2. 3. 2. 2. 2. 2.\n",
            " 4. 2. 4. 3. 3. 2. 4. 1. 4. 2. 4. 2. 2. 2. 1. 2. 3. 4. 1. 2. 2. 1. 4. 3.\n",
            " 2. 2. 3. 4. 2. 3. 1. 4. 2. 4. 4. 2. 2. 2. 2. 1.]\n"
          ],
          "name": "stdout"
        },
        {
          "output_type": "display_data",
          "data": {
            "image/png": "[encoded data removed]",
            "text/plain": [
              "<Figure size 432x288 with 2 Axes>"
            ]
          },
          "metadata": {
            "tags": []
          }
        }
      ]
    }
  ]
}